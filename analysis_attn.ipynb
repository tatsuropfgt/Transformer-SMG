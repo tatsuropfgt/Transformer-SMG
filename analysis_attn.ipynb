{
 "cells": [
  {
   "cell_type": "code",
   "execution_count": 1,
   "metadata": {},
   "outputs": [],
   "source": [
    "from main import settings_to_fn\n",
    "import argparse\n",
    "from omegaconf import OmegaConf\n",
    "from models import init_model\n",
    "import sys\n",
    "import torch\n",
    "from dataset import NoteTupleDataset\n",
    "from torch.utils.data import DataLoader\n",
    "\n",
    "device = torch.device(\"cuda\" if torch.cuda.is_available() else \"cpu\")\n",
    "device = \"cpu\""
   ]
  },
  {
   "cell_type": "code",
   "execution_count": 2,
   "metadata": {},
   "outputs": [],
   "source": [
    "config_file = \"configs/note_tuple/baseline.yaml\"\n",
    "sys.argv = ['argparse_example.py']\n",
    "parser = argparse.ArgumentParser()\n",
    "parser.add_argument(\"--size\", type=str, default=\"small\")\n",
    "parser.add_argument(\"--debug\", action=\"store_true\")\n",
    "args = parser.parse_args()"
   ]
  },
  {
   "cell_type": "code",
   "execution_count": 3,
   "metadata": {},
   "outputs": [],
   "source": [
    "cfg_def = OmegaConf.load(\"configs/small.yaml\")\n",
    "cfg_setting = OmegaConf.load(config_file)\n",
    "cfg = OmegaConf.merge(cfg_def, cfg_setting)\n",
    "cfg.data.batch_size = 1\n",
    "fn = settings_to_fn(cfg, args)"
   ]
  },
  {
   "cell_type": "code",
   "execution_count": 4,
   "metadata": {},
   "outputs": [
    {
     "name": "stdout",
     "output_type": "stream",
     "text": [
      "Number of trainable parameters: 3533799\n"
     ]
    }
   ],
   "source": [
    "model, _ = init_model(cfg.model, cfg.music_rep, \"cpu\", False)\n",
    "model = model.to(device)"
   ]
  },
  {
   "cell_type": "code",
   "execution_count": 5,
   "metadata": {},
   "outputs": [],
   "source": [
    "class SimpleHook:\n",
    "    def __init__(self, module):\n",
    "        self.hook = module.register_forward_hook(self.hook_fn, with_kwargs=True)\n",
    "\n",
    "    def hook_fn(self, module, args, kwargs, output):\n",
    "        self.args = args\n",
    "        self.kwargs = kwargs\n",
    "        self.output = output"
   ]
  },
  {
   "cell_type": "code",
   "execution_count": 6,
   "metadata": {},
   "outputs": [],
   "source": [
    "hooks = [SimpleHook(model.net.layers[i].attn.attn_hook) for i in range(len(model.net.layers))]"
   ]
  },
  {
   "cell_type": "code",
   "execution_count": 7,
   "metadata": {},
   "outputs": [
    {
     "name": "stderr",
     "output_type": "stream",
     "text": [
      "                                                     \r"
     ]
    }
   ],
   "source": [
    "dataset = NoteTupleDataset(cfg.data.data_root, cfg.data.data_src, cfg.data.train_file, False)\n",
    "loader = DataLoader(\n",
    "    dataset,\n",
    "    batch_size=cfg.data.batch_size,\n",
    "    shuffle=True,\n",
    "    num_workers=cfg.data.num_workers,\n",
    ")\n",
    "with torch.no_grad():\n",
    "    for batch in loader:\n",
    "        loss = model(batch.to(device))\n",
    "        break"
   ]
  },
  {
   "cell_type": "code",
   "execution_count": 11,
   "metadata": {},
   "outputs": [],
   "source": [
    "# batch_size, head, seq_len, seq_len\n",
    "attn = hooks[0].kwargs[\"attn\"][0]\n",
    "attn = attn.mean(dim=0)"
   ]
  },
  {
   "cell_type": "code",
   "execution_count": 14,
   "metadata": {},
   "outputs": [
    {
     "data": {
      "text/plain": [
       "tensor([[0.0009, 0.0000, 0.0000, 0.0000, 0.0000, 0.0000, 0.0000, 0.0000, 0.0000,\n",
       "         0.0000],\n",
       "        [0.0009, 0.0010, 0.0000, 0.0000, 0.0000, 0.0000, 0.0000, 0.0000, 0.0000,\n",
       "         0.0000],\n",
       "        [0.0009, 0.0011, 0.0010, 0.0000, 0.0000, 0.0000, 0.0000, 0.0000, 0.0000,\n",
       "         0.0000],\n",
       "        [0.0009, 0.0010, 0.0010, 0.0010, 0.0000, 0.0000, 0.0000, 0.0000, 0.0000,\n",
       "         0.0000],\n",
       "        [0.0009, 0.0011, 0.0010, 0.0009, 0.0010, 0.0000, 0.0000, 0.0000, 0.0000,\n",
       "         0.0000],\n",
       "        [0.0008, 0.0011, 0.0010, 0.0010, 0.0010, 0.0009, 0.0000, 0.0000, 0.0000,\n",
       "         0.0000],\n",
       "        [0.0009, 0.0010, 0.0010, 0.0009, 0.0010, 0.0009, 0.0009, 0.0000, 0.0000,\n",
       "         0.0000],\n",
       "        [0.0009, 0.0011, 0.0011, 0.0009, 0.0010, 0.0009, 0.0010, 0.0010, 0.0000,\n",
       "         0.0000],\n",
       "        [0.0009, 0.0011, 0.0010, 0.0010, 0.0010, 0.0009, 0.0010, 0.0010, 0.0009,\n",
       "         0.0000],\n",
       "        [0.0009, 0.0010, 0.0010, 0.0009, 0.0009, 0.0008, 0.0009, 0.0010, 0.0009,\n",
       "         0.0009]])"
      ]
     },
     "execution_count": 14,
     "metadata": {},
     "output_type": "execute_result"
    }
   ],
   "source": [
    "attn[-10:, -10:]"
   ]
  },
  {
   "cell_type": "code",
   "execution_count": 28,
   "metadata": {},
   "outputs": [
    {
     "data": {
      "text/plain": [
       "tensor([[-100, -100],\n",
       "        [   1,    2],\n",
       "        [   1,    2],\n",
       "        [   1,    2],\n",
       "        [   1,    8],\n",
       "        [   1,   14],\n",
       "        [   1,   14],\n",
       "        [   1,   14],\n",
       "        [   1,   14],\n",
       "        [   1,   14],\n",
       "        [   1,   20],\n",
       "        [   1,   26],\n",
       "        [   1,   26],\n",
       "        [   1,   32],\n",
       "        [   1,   32],\n",
       "        [   1,   35],\n",
       "        [   1,   41],\n",
       "        [   1,   44],\n",
       "        [   1,   44],\n",
       "        [   1,   44]])"
      ]
     },
     "execution_count": 28,
     "metadata": {},
     "output_type": "execute_result"
    }
   ],
   "source": [
    "batch[0, :20, 1: 3]"
   ]
  },
  {
   "cell_type": "code",
   "execution_count": 36,
   "metadata": {},
   "outputs": [],
   "source": [
    "time = torch.where(batch[0, :-1, 1] == -100, -100, (batch[0, :-1, 1] - 1) * 48 + batch[0, :-1, 2])\n",
    "idx_not_100 = torch.where(time != -100)[0]\n",
    "time_rel = time.view(-1, 1) - time.view(1, -1)"
   ]
  },
  {
   "cell_type": "code",
   "execution_count": 38,
   "metadata": {},
   "outputs": [],
   "source": [
    "attn_time_sum = [0 for _ in range(768)]  # 0 ~ 767\n",
    "attn_time_num = [0 for _ in range(768)]  # 0 ~ 767"
   ]
  },
  {
   "cell_type": "code",
   "execution_count": 39,
   "metadata": {},
   "outputs": [],
   "source": [
    "num_valid_token = len(idx_not_100)\n",
    "for i in range(num_valid_token):\n",
    "    for j in range(i + 1):\n",
    "        idx_query = idx_not_100[i]\n",
    "        idx_key = idx_not_100[j]\n",
    "        attn_time_sum[time_rel[idx_query, idx_key]] += attn[idx_query, idx_key]\n",
    "        attn_time_num[time_rel[idx_query, idx_key]] += 1\n",
    "\n",
    "attn_time_avg = [attn_time_sum[i] / attn_time_num[i] if attn_time_num[i] != 0 else 0 for i in range(768)]"
   ]
  },
  {
   "cell_type": "code",
   "execution_count": 42,
   "metadata": {},
   "outputs": [
    {
     "data": {
      "text/plain": [
       "[tensor(0.0196),\n",
       " 0,\n",
       " 0,\n",
       " tensor(0.0173),\n",
       " 0,\n",
       " 0,\n",
       " tensor(0.0143),\n",
       " 0,\n",
       " 0,\n",
       " tensor(0.0184),\n",
       " 0,\n",
       " 0,\n",
       " tensor(0.0160),\n",
       " 0,\n",
       " 0,\n",
       " tensor(0.0173),\n",
       " 0,\n",
       " 0,\n",
       " tensor(0.0127),\n",
       " 0,\n",
       " 0,\n",
       " tensor(0.0182),\n",
       " 0,\n",
       " 0,\n",
       " tensor(0.0116),\n",
       " 0,\n",
       " 0,\n",
       " tensor(0.0198),\n",
       " 0,\n",
       " 0,\n",
       " tensor(0.0125),\n",
       " 0,\n",
       " 0,\n",
       " tensor(0.0170),\n",
       " 0,\n",
       " 0,\n",
       " tensor(0.0111),\n",
       " 0,\n",
       " 0,\n",
       " tensor(0.0159),\n",
       " 0,\n",
       " 0,\n",
       " tensor(0.0112),\n",
       " 0,\n",
       " 0,\n",
       " tensor(0.0147),\n",
       " 0,\n",
       " 0,\n",
       " tensor(0.0106),\n",
       " 0]"
      ]
     },
     "execution_count": 42,
     "metadata": {},
     "output_type": "execute_result"
    }
   ],
   "source": [
    "attn_time_avg[:50]"
   ]
  },
  {
   "cell_type": "code",
   "execution_count": null,
   "metadata": {},
   "outputs": [],
   "source": []
  }
 ],
 "metadata": {
  "kernelspec": {
   "display_name": "mir_cuda120",
   "language": "python",
   "name": "python3"
  },
  "language_info": {
   "codemirror_mode": {
    "name": "ipython",
    "version": 3
   },
   "file_extension": ".py",
   "mimetype": "text/x-python",
   "name": "python",
   "nbconvert_exporter": "python",
   "pygments_lexer": "ipython3",
   "version": "3.10.10"
  }
 },
 "nbformat": 4,
 "nbformat_minor": 2
}
